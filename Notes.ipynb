{
 "cells": [
  {
   "cell_type": "code",
   "execution_count": null,
   "metadata": {},
   "outputs": [],
   "source": [
    "kevin_details = {\n",
    "\"colby id\": 12345,\n",
    "\"grade\": \"A\"\n",
    "\n",
    "}\n",
    "\n",
    "kevin_details[\"grade\"]"
   ]
  },
  {
   "cell_type": "code",
   "execution_count": null,
   "metadata": {},
   "outputs": [],
   "source": [
    "class Student:\n",
    "\n",
    "    first_name: str #these are attributes\n",
    "    last_name: str\n",
    "    grade: list[float]\n",
    "    colby_id: int\n",
    "\n",
    "    def __init__(self, f_name:str, l_name:str, grade: str, colby_id: int): ##constructors, self signifies attributes of the class\n",
    "        self.first_name = f_name\n",
    "        self.last_name = l_name\n",
    "        self.grade = grade\n",
    "        self.colby_id = colby_id\n",
    "\n",
    "\n",
    "    def calc_grade(self) -> float:\n",
    "        total_grade = 0\n",
    "        for each_grade in self.grade:\n",
    "            total_grade += each_grade\n",
    "\n",
    "        return total_grade/len(self.grade)\n"
   ]
  },
  {
   "cell_type": "code",
   "execution_count": null,
   "metadata": {},
   "outputs": [],
   "source": [
    "    kevin = Student(\"Kevin\", \"Doe\", [30, 45, 85, 95], 12345) ##In this case kevin is the object\n",
    "    kevin.calc_grade() ## A function inside of a class is a method"
   ]
  },
  {
   "cell_type": "code",
   "execution_count": null,
   "metadata": {},
   "outputs": [],
   "source": [
    "kevin.first_name\n",
    "kevin.grade"
   ]
  },
  {
   "cell_type": "code",
   "execution_count": null,
   "metadata": {},
   "outputs": [],
   "source": [
    "class Car:\n",
    "    \n",
    "    brand: str\n",
    "    make: str\n",
    "    color: str\n",
    "    year: int\n",
    "    weight: float\n",
    "    num_of_doors: int\n",
    "    mileage: float\n",
    "\n",
    "    def __init__(self, brand: str, make: str, color: str, year: int, weight: float, num_of_doors: int, mileage: float):\n",
    "        self.brand = brand\n",
    "        self.make = make\n",
    "        self.color = color\n",
    "        self.year = year\n",
    "        self.weight = weight\n",
    "        self.num_of_doors = num_of_doors\n",
    "        self.mileage = mileage\n",
    "\n",
    "\n"
   ]
  },
  {
   "cell_type": "code",
   "execution_count": null,
   "metadata": {},
   "outputs": [],
   "source": [
    "my_car: Car = Car(\"Toyota\", \"Corolla\", \"red\", 2018, 1000, 4, 30)\n",
    "\n",
    "my_car.make"
   ]
  },
  {
   "cell_type": "code",
   "execution_count": null,
   "metadata": {},
   "outputs": [],
   "source": [
    "#Class\n",
    "\n",
    "##If I have a recipe of cake \n",
    "##if I use that recipe to create a cake, it then becomes an object\n",
    "##Objects are instances of class"
   ]
  },
  {
   "cell_type": "code",
   "execution_count": 2,
   "metadata": {},
   "outputs": [],
   "source": [
    "#The 4 pillars for creating an object oriented software (classes)\n",
    "\n",
    "#A (Abstraction)\n",
    "#P (Polymorphism) allows. ustousethesame. butassignitdifferent_values. \n",
    "#I (Inheritance) this is the \"is a \" relationship. Dog is a Pet\n",
    "#E (Encapsulation) "
   ]
  },
  {
   "cell_type": "code",
   "execution_count": null,
   "metadata": {},
   "outputs": [],
   "source": [
    "bag1 = Bag_Of_Words(\"text\")\n",
    "bag1.preprocessed_text()\n",
    "bag2 = Bag_Of_Words(\"hi\") ##This is the class itself, similar to set, and how each class has a module\n",
    "bag2.preprocessed_text() ##Then this would be like .append() with like a set "
   ]
  },
  {
   "cell_type": "code",
   "execution_count": null,
   "metadata": {},
   "outputs": [],
   "source": [
    "class Pet:\n",
    "    name: str\n",
    "    owner: str\n",
    "    age: int\n",
    "    species: str\n",
    "    color: str\n",
    "\n",
    "    def __init__(self, name, owner, age, species, color): ##__init_ helps create objects (self = helps access all of the methods and attributes in a class)\n",
    "        self.name = name\n",
    "        self.owner = owner\n",
    "        self.age = age\n",
    "        self.species = species\n",
    "        self.color = color\n",
    "    "
   ]
  },
  {
   "cell_type": "code",
   "execution_count": null,
   "metadata": {},
   "outputs": [],
   "source": [
    "class Dog(Pet): ##The class dog inherits attributes and traits from Pet\n",
    "##The relationship is \"is\". Ex: The Dog \"is\" a Pet, The Cat \"is\" a pet, The Husky \"is\" a Dog \n",
    "    height: float\n",
    "    length: float\n",
    "    eye_color: str\n",
    "    good_boy: bool\n",
    "\n",
    "    def __init__(self, height, length, eye_color, good_boy): ##known as the constructor \n",
    "        self.height = height\n",
    "        self.length = length\n",
    "        self.eye_color = eye_color\n",
    "        self.good_boy = good_boy\n",
    "\n",
    "\n",
    "\n",
    "    def calculate_age_in_dog_years(self):\n",
    "        return self.age*7\n",
    "\n",
    "    def tell_me_your_age(self):\n",
    "        print(f\"My age is {self.calculate_age_in_dog_years()}\")\n",
    "\n",
    "\n",
    "    class Husky():\n",
    "        pass\n",
    "        "
   ]
  },
  {
   "cell_type": "code",
   "execution_count": null,
   "metadata": {},
   "outputs": [],
   "source": [
    "ruff = Husky(name)"
   ]
  },
  {
   "cell_type": "code",
   "execution_count": null,
   "metadata": {},
   "outputs": [],
   "source": [
    "class Universities():\n",
    "    location: str\n",
    "    endowment: float\n",
    "    avg_sat: int\n",
    "    avg_gpa: float\n",
    "    acceptance_rate: float\n",
    "    graduation_rate: float\n",
    "    class_size: int\n",
    "    professor_rating: float\n",
    "\n",
    "\n",
    "class state_university:\n",
    "\n",
    "class private_university:\n",
    "\n",
    "class liberal_arts_college:"
   ]
  },
  {
   "cell_type": "code",
   "execution_count": null,
   "metadata": {},
   "outputs": [],
   "source": [
    "class state_university(Universities):\n",
    "    city: str\n",
    "    zipcode: int\n",
    "    mailing_address: str\n",
    "    city_population: int\n"
   ]
  },
  {
   "cell_type": "code",
   "execution_count": null,
   "metadata": {},
   "outputs": [],
   "source": [
    "class Student(State):\n",
    "    high_school: str\n",
    "    weight: int\n",
    "    height: float\n",
    "    eye_color: str"
   ]
  }
 ],
 "metadata": {
  "kernelspec": {
   "display_name": "Python 3",
   "language": "python",
   "name": "python3"
  },
  "language_info": {
   "codemirror_mode": {
    "name": "ipython",
    "version": 3
   },
   "file_extension": ".py",
   "mimetype": "text/x-python",
   "name": "python",
   "nbconvert_exporter": "python",
   "pygments_lexer": "ipython3",
   "version": "3.9.6"
  }
 },
 "nbformat": 4,
 "nbformat_minor": 2
}
