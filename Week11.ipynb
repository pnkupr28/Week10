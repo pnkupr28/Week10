{
 "cells": [
  {
   "cell_type": "code",
   "execution_count": null,
   "metadata": {},
   "outputs": [],
   "source": [
    "#A module is a python file\n",
    "\n",
    "\n",
    "#from file_name import *    (Imports everything)\n",
    "#Then to state that thing and use a function you do \"file_name.function()\""
   ]
  },
  {
   "cell_type": "code",
   "execution_count": null,
   "metadata": {},
   "outputs": [],
   "source": [
    "##Reading file/write\n",
    "\n",
    "\n",
    "#Append adds to the thing while write, writes over it.abs\n",
    "# w overwrites it while a adds to the file "
   ]
  },
  {
   "cell_type": "code",
   "execution_count": null,
   "metadata": {},
   "outputs": [],
   "source": [
    "##the point of having an attribute is a special variable to specify in"
   ]
  },
  {
   "cell_type": "code",
   "execution_count": 2,
   "metadata": {},
   "outputs": [],
   "source": [
    "from abc import ABC, abstractmethod\n",
    "\n",
    "class Food(ABC):\n",
    "\n",
    "    food_quality: int ##These attributes in other words should be nouns \n",
    "    calories: int \n",
    "\n",
    "    def __init__(self, food_quality:int):\n",
    "        self.food_quality = food_quality\n",
    "\n",
    "    @abstractmethod\n",
    "    def how_fulfilling(self):\n",
    "        pass\n",
    "\n",
    "class hispanic_food(Food):\n",
    "    food_quality: int = 10\n",
    "    calories: int = 500\n",
    "\n",
    "    def how_fulfilling(self):\n",
    "        print(\"The amount should be greater than 500 kcals\")\n",
    "\n",
    "\n",
    "\n",
    "class french_food(Food):\n",
    "    food_quality: int = 4\n",
    "    calories: int = 100\n",
    "\n",
    "\n",
    "\n",
    "    def how_fulfilling(self):\n",
    "        print(\"You will be able to eat \")\n"
   ]
  },
  {
   "cell_type": "code",
   "execution_count": 4,
   "metadata": {},
   "outputs": [],
   "source": [
    "from abc import ABC, abstractmethod ##You can superclasses (parent class), and subclass (child class)\n",
    "\n",
    "\n",
    "class University(ABC):\n",
    "\n",
    "\n",
    "    location: str\n",
    "    acceptance_rate: float = 0.5\n",
    "\n",
    "    \n",
    "    def enroll_student(): ##Concrete method will have a body \n",
    "        print(\"Student is required to graduate from high school\")\n",
    "\n",
    "\n",
    "class Public_University(University):    \n",
    "    def enroll_student(self):\n",
    "        super().enroll_student()\n",
    "        print(f\"The acceptance rater is: {super().acceptance_rate}\")\n",
    "        print(\"Student is required to have SAT, ACT, and GPA\")\n",
    "\n",
    "\n",
    "class Private_University(University):\n",
    "    pass\n"
   ]
  },
  {
   "cell_type": "code",
   "execution_count": null,
   "metadata": {},
   "outputs": [],
   "source": [
    "UMaine = Public_University()\n",
    "UMaine.enroll_student()\n",
    "\n",
    "\n",
    "\n",
    "##The super method is used to access the attributes and the methods "
   ]
  }
 ],
 "metadata": {
  "kernelspec": {
   "display_name": "Python 3",
   "language": "python",
   "name": "python3"
  },
  "language_info": {
   "codemirror_mode": {
    "name": "ipython",
    "version": 3
   },
   "file_extension": ".py",
   "mimetype": "text/x-python",
   "name": "python",
   "nbconvert_exporter": "python",
   "pygments_lexer": "ipython3",
   "version": "3.9.6"
  }
 },
 "nbformat": 4,
 "nbformat_minor": 2
}
